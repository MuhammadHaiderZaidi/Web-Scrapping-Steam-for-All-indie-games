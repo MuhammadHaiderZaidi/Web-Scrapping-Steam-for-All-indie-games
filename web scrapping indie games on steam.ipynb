{
 "cells": [
  {
   "cell_type": "markdown",
   "metadata": {},
   "source": [
    "# importing libraries"
   ]
  },
  {
   "cell_type": "code",
   "execution_count": 1,
   "metadata": {},
   "outputs": [],
   "source": [
    "import requests\n",
    "from bs4 import BeautifulSoup\n",
    "import csv"
   ]
  },
  {
   "cell_type": "markdown",
   "metadata": {},
   "source": [
    "# main"
   ]
  },
  {
   "cell_type": "code",
   "execution_count": 78,
   "metadata": {},
   "outputs": [],
   "source": [
    "with open(\"indie_games_on_steam.csv\",'w', encoding='utf-8',newline='') as csvfile:\n",
    "    \n",
    "    csvwriter = csv.writer(csvfile)\n",
    "    csvwriter.writerow([\"NAME\",\"RELEASE DATE\",\"REVIEW\",\"LINK\"])\n",
    "    \n",
    "    for i in range(146):\n",
    "\n",
    "        url = 'https://store.steampowered.com/search/?sort_by=&sort_order=0&genre=Free%20to%20Play&tags=492&page={}'.format(i+1)\n",
    "        res = requests.get(url)\n",
    "\n",
    "        data = BeautifulSoup(res.text)\n",
    "\n",
    "        list = data.find(id = 'search_resultsRows')\n",
    "\n",
    "\n",
    "        for item in list.find_all('a'):\n",
    "\n",
    "            name = item.select('span.title')[0].text\n",
    "            link = item.attrs['href']\n",
    "            date = item.select('div.col.search_released.responsive_secondrow')[0].text\n",
    "            if None != item.find('span',attrs = {\"class\":\"search_review_summary\"}):\n",
    "                review = item.find('span',attrs = {\"class\":\"search_review_summary\"}).attrs['data-tooltip-html'].replace('<br>',': ')\n",
    "            csvwriter.writerow([name,date,review,link])\n"
   ]
  }
 ],
 "metadata": {
  "kernelspec": {
   "display_name": "Python 3",
   "language": "python",
   "name": "python3"
  },
  "language_info": {
   "codemirror_mode": {
    "name": "ipython",
    "version": 3
   },
   "file_extension": ".py",
   "mimetype": "text/x-python",
   "name": "python",
   "nbconvert_exporter": "python",
   "pygments_lexer": "ipython3",
   "version": "3.7.6"
  }
 },
 "nbformat": 4,
 "nbformat_minor": 4
}
